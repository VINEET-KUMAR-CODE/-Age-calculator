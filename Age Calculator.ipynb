{
 "cells": [
  {
   "cell_type": "code",
   "execution_count": 1,
   "id": "a71d686c-8bd2-4ed8-ab7c-705ba1ec0442",
   "metadata": {},
   "outputs": [],
   "source": [
    "import time\n",
    "from calendar import isleap"
   ]
  },
  {
   "cell_type": "code",
   "execution_count": 3,
   "id": "515a018c-6158-40b2-b02b-8f5d0c338d1a",
   "metadata": {},
   "outputs": [
    {
     "name": "stdin",
     "output_type": "stream",
     "text": [
      "Input your name:  vineet\n",
      "Input your age:  28\n"
     ]
    },
    {
     "name": "stdout",
     "output_type": "stream",
     "text": [
      "vineet's age is 28 years or 344 months or 10468 days\n"
     ]
    }
   ],
   "source": [
    "import time\n",
    "from calendar import isleap\n",
    "\n",
    "# Judge if a year is a leap year\n",
    "def judge_leap_year(year):\n",
    "    return isleap(year)\n",
    "\n",
    "# Returns the number of days in each month\n",
    "def month_days(month, leap_year):\n",
    "    if month in [1, 3, 5, 7, 8, 10, 12]:\n",
    "        return 31\n",
    "    elif month in [4, 6, 9, 11]:\n",
    "        return 30\n",
    "    elif month == 2 and leap_year:\n",
    "        return 29\n",
    "    elif month == 2 and not leap_year:\n",
    "        return 28\n",
    "\n",
    "# Input user details\n",
    "name = input(\"Input your name: \")\n",
    "age = int(input(\"Input your age: \"))\n",
    "\n",
    "# Get current time\n",
    "localtime = time.localtime(time.time())\n",
    "\n",
    "# Calculate months and start/end years\n",
    "year = age\n",
    "month = year * 12 + localtime.tm_mon\n",
    "day = 0\n",
    "begin_year = localtime.tm_year - year\n",
    "end_year = localtime.tm_year\n",
    "\n",
    "# Calculate days for full years\n",
    "for y in range(begin_year, end_year):\n",
    "    day += 366 if judge_leap_year(y) else 365\n",
    "\n",
    "# Add days for current year's months\n",
    "leap_year = judge_leap_year(localtime.tm_year)\n",
    "for m in range(1, localtime.tm_mon):\n",
    "    day += month_days(m, leap_year)\n",
    "\n",
    "# Add current month days\n",
    "day += localtime.tm_mday\n",
    "\n",
    "# Print results\n",
    "print(f\"{name}'s age is {year} years or {month} months or {day} days\")\n"
   ]
  },
  {
   "cell_type": "code",
   "execution_count": null,
   "id": "059c370d-e4c5-4bca-b47a-32717cfb6170",
   "metadata": {},
   "outputs": [],
   "source": []
  },
  {
   "cell_type": "code",
   "execution_count": null,
   "id": "20376d2a-2704-4947-961d-393bea262532",
   "metadata": {},
   "outputs": [],
   "source": []
  }
 ],
 "metadata": {
  "kernelspec": {
   "display_name": "Python 3 (ipykernel)",
   "language": "python",
   "name": "python3"
  },
  "language_info": {
   "codemirror_mode": {
    "name": "ipython",
    "version": 3
   },
   "file_extension": ".py",
   "mimetype": "text/x-python",
   "name": "python",
   "nbconvert_exporter": "python",
   "pygments_lexer": "ipython3",
   "version": "3.12.7"
  }
 },
 "nbformat": 4,
 "nbformat_minor": 5
}
